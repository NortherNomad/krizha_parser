{
 "cells": [
  {
   "cell_type": "code",
   "execution_count": 1,
   "metadata": {},
   "outputs": [],
   "source": [
    "import pandas as pd"
   ]
  },
  {
   "cell_type": "code",
   "execution_count": 2,
   "metadata": {},
   "outputs": [],
   "source": [
    "s = pd.Series([4, 5, 3, 1], index=[\"Almaty\", \"Astana\", \"Shymkent\", \"Aktau\"])"
   ]
  },
  {
   "cell_type": "code",
   "execution_count": 3,
   "metadata": {},
   "outputs": [
    {
     "name": "stdout",
     "output_type": "stream",
     "text": [
      "4\n",
      "5\n",
      "3\n",
      "1\n"
     ]
    }
   ],
   "source": [
    "for i in s:\n",
    "    print(i)"
   ]
  },
  {
   "cell_type": "code",
   "execution_count": 4,
   "metadata": {},
   "outputs": [
    {
     "data": {
      "text/plain": [
       "4"
      ]
     },
     "execution_count": 4,
     "metadata": {},
     "output_type": "execute_result"
    }
   ],
   "source": [
    "s[\"Almaty\"]"
   ]
  },
  {
   "cell_type": "code",
   "execution_count": 5,
   "metadata": {},
   "outputs": [
    {
     "data": {
      "text/plain": [
       "4"
      ]
     },
     "execution_count": 5,
     "metadata": {},
     "output_type": "execute_result"
    }
   ],
   "source": [
    "s.iloc[0]"
   ]
  },
  {
   "cell_type": "code",
   "execution_count": 6,
   "metadata": {},
   "outputs": [],
   "source": [
    "s_2019 = pd.Series([4, 5, 3, 1], index=[\"Almaty\", \"Astana\", \"Shymkent\", \"Aktau\"])\n",
    "s_2020 = pd.Series([4, 5, 3, 1], index=[\"Almaty\", \"Shymkent\", \"Atyrau\", \"Astana\"])\n",
    "# O(N^2)\n",
    "# O(N^1)"
   ]
  },
  {
   "cell_type": "code",
   "execution_count": 7,
   "metadata": {},
   "outputs": [
    {
     "data": {
      "text/plain": [
       "Aktau       NaN\n",
       "Almaty      8.0\n",
       "Astana      6.0\n",
       "Atyrau      NaN\n",
       "Shymkent    8.0\n",
       "dtype: float64"
      ]
     },
     "execution_count": 7,
     "metadata": {},
     "output_type": "execute_result"
    }
   ],
   "source": [
    "s_2019 + s_2020"
   ]
  },
  {
   "cell_type": "code",
   "execution_count": null,
   "metadata": {},
   "outputs": [],
   "source": []
  },
  {
   "cell_type": "code",
   "execution_count": 8,
   "metadata": {},
   "outputs": [],
   "source": [
    "df = pd.DataFrame({\n",
    "    \"2019\": s_2019,\n",
    "    \"2020\": s_2020,\n",
    "})\n",
    "\n",
    "df[\"sum\"] = df[\"2019\"] + df[\"2020\"]"
   ]
  },
  {
   "cell_type": "code",
   "execution_count": 9,
   "metadata": {},
   "outputs": [
    {
     "name": "stdout",
     "output_type": "stream",
     "text": [
      "!!!\n",
      "Aktau \n",
      " 2019    1.0\n",
      "2020    NaN\n",
      "sum     NaN\n",
      "Name: Aktau, dtype: float64\n",
      "\n",
      "!!!\n",
      "Almaty \n",
      " 2019    4.0\n",
      "2020    4.0\n",
      "sum     8.0\n",
      "Name: Almaty, dtype: float64\n",
      "\n",
      "!!!\n",
      "Astana \n",
      " 2019    5.0\n",
      "2020    1.0\n",
      "sum     6.0\n",
      "Name: Astana, dtype: float64\n",
      "\n",
      "!!!\n",
      "Atyrau \n",
      " 2019    NaN\n",
      "2020    3.0\n",
      "sum     NaN\n",
      "Name: Atyrau, dtype: float64\n",
      "\n",
      "!!!\n",
      "Shymkent \n",
      " 2019    3.0\n",
      "2020    5.0\n",
      "sum     8.0\n",
      "Name: Shymkent, dtype: float64\n",
      "\n"
     ]
    }
   ],
   "source": [
    "for i, row in df.iterrows():\n",
    "    print(\"!!!\")\n",
    "    print(i, \"\\n\", row)\n",
    "    print()"
   ]
  },
  {
   "cell_type": "code",
   "execution_count": 10,
   "metadata": {},
   "outputs": [],
   "source": [
    "a = [\n",
    "    [1, None],\n",
    "    [4, 4],\n",
    "    [5, 1],\n",
    "    [None, 3],\n",
    "]"
   ]
  },
  {
   "cell_type": "code",
   "execution_count": 11,
   "metadata": {},
   "outputs": [],
   "source": [
    "a = df.to_numpy()"
   ]
  },
  {
   "cell_type": "code",
   "execution_count": 12,
   "metadata": {},
   "outputs": [
    {
     "data": {
      "text/plain": [
       "array([[ 1., nan, nan],\n",
       "       [ 4.,  4.,  8.],\n",
       "       [ 5.,  1.,  6.],\n",
       "       [nan,  3., nan],\n",
       "       [ 3.,  5.,  8.]])"
      ]
     },
     "execution_count": 12,
     "metadata": {},
     "output_type": "execute_result"
    }
   ],
   "source": [
    "a"
   ]
  },
  {
   "cell_type": "code",
   "execution_count": 13,
   "metadata": {},
   "outputs": [
    {
     "data": {
      "text/plain": [
       "4.0"
      ]
     },
     "execution_count": 13,
     "metadata": {},
     "output_type": "execute_result"
    }
   ],
   "source": [
    "a[1][1]"
   ]
  },
  {
   "cell_type": "code",
   "execution_count": null,
   "metadata": {},
   "outputs": [],
   "source": []
  },
  {
   "cell_type": "code",
   "execution_count": null,
   "metadata": {},
   "outputs": [],
   "source": []
  },
  {
   "cell_type": "code",
   "execution_count": 14,
   "metadata": {},
   "outputs": [],
   "source": [
    "a = {\n",
    "    \"Almaty\": 4,\n",
    "    \"Astana\": 5,\n",
    "    \"Shymkent\": 3,\n",
    "    \"Aktau\": 1,\n",
    "}"
   ]
  },
  {
   "cell_type": "code",
   "execution_count": 15,
   "metadata": {},
   "outputs": [
    {
     "data": {
      "text/plain": [
       "dict_values([4, 5, 3, 1])"
      ]
     },
     "execution_count": 15,
     "metadata": {},
     "output_type": "execute_result"
    }
   ],
   "source": [
    "a.values()"
   ]
  },
  {
   "cell_type": "code",
   "execution_count": 16,
   "metadata": {},
   "outputs": [
    {
     "data": {
      "text/plain": [
       "3"
      ]
     },
     "execution_count": 16,
     "metadata": {},
     "output_type": "execute_result"
    }
   ],
   "source": [
    "hash(\"Almaty\") % 10"
   ]
  },
  {
   "cell_type": "code",
   "execution_count": 1,
   "metadata": {},
   "outputs": [],
   "source": [
    "import pandas as pd\n",
    "df = pd.read_excel(\"study/Schools Data.xlsx\")"
   ]
  },
  {
   "cell_type": "code",
   "execution_count": 3,
   "metadata": {},
   "outputs": [
    {
     "data": {
      "text/plain": [
       "0       общеобразовательная школа, опорная школа (ресу...\n",
       "1                               общеобразовательная школа\n",
       "2       общеобразовательная школа, интернат при общеоб...\n",
       "3                               общеобразовательная школа\n",
       "4       общеобразовательная школа, малокомплектная шко...\n",
       "                              ...                        \n",
       "6059                            общеобразовательная школа\n",
       "6060                                      начальная школа\n",
       "6061            общеобразовательная школа, школа-гимназия\n",
       "6062                            общеобразовательная школа\n",
       "6063                            общеобразовательная школа\n",
       "Name: school_type, Length: 6064, dtype: object"
      ]
     },
     "execution_count": 3,
     "metadata": {},
     "output_type": "execute_result"
    }
   ],
   "source": [
    "df.school_type"
   ]
  },
  {
   "cell_type": "code",
   "execution_count": 5,
   "metadata": {},
   "outputs": [
    {
     "name": "stdout",
     "output_type": "stream",
     "text": [
      "да:  0.24393864423552697\n",
      "no  0.7560613557644731\n"
     ]
    }
   ],
   "source": [
    "print('да: ', df.museum.value_counts()[1]/(df.museum.value_counts()[1] + df.museum.value_counts()[0]))\n",
    "print('no ', df.museum.value_counts()[0]/(df.museum.value_counts()[1] + df.museum.value_counts()[0]))\n",
    "# df.museum.value_counts()[1]"
   ]
  },
  {
   "cell_type": "code",
   "execution_count": 11,
   "metadata": {},
   "outputs": [
    {
     "data": {
      "text/plain": [
       "Unnamed: 0                    int64\n",
       "ID                            int64\n",
       "region                       object\n",
       "school_type                  object\n",
       "total_students_2018           int64\n",
       "                             ...   \n",
       "drinking_water_presence      object\n",
       "qedu_top_uni                float64\n",
       "qedu_passed_ent             float64\n",
       "qedu_continued_education    float64\n",
       "qedu_elite_achievements     float64\n",
       "Length: 212, dtype: object"
      ]
     },
     "execution_count": 11,
     "metadata": {},
     "output_type": "execute_result"
    }
   ],
   "source": [
    "df.dtypes"
   ]
  },
  {
   "cell_type": "code",
   "execution_count": 11,
   "metadata": {},
   "outputs": [
    {
     "data": {
      "text/plain": [
       "общеобразовательная школа                                                                                       2430\n",
       "общеобразовательная школа, малокомплектная школа                                                                1206\n",
       "основная средняя школа, малокомплектная школа                                                                    719\n",
       "начальная школа, малокомплектная школа                                                                           529\n",
       "общеобразовательная школа, школа-гимназия                                                                        174\n",
       "                                                                                                                ... \n",
       "специализированный лицей (специализированная школалицей), лицейинтернат 'Білім инновация'                          1\n",
       "общеобразовательная школа, интернат при общеобразовательной школе, школалицей                                      1\n",
       "общеобразовательная школа, малокомплектная школа, школаинтернат                                                    1\n",
       "общеобразовательная школа, гимназия, опорная школа (ресурсный центр), интернат при общеобразовательной школе       1\n",
       "общеобразовательная школа, школа-интернат, школа-гимназия                                                          1\n",
       "Name: school_type, Length: 72, dtype: int64"
      ]
     },
     "execution_count": 11,
     "metadata": {},
     "output_type": "execute_result"
    }
   ],
   "source": [
    "df.school_type.value_counts()"
   ]
  },
  {
   "cell_type": "code",
   "execution_count": 12,
   "metadata": {},
   "outputs": [
    {
     "data": {
      "text/html": [
       "<div>\n",
       "<style scoped>\n",
       "    .dataframe tbody tr th:only-of-type {\n",
       "        vertical-align: middle;\n",
       "    }\n",
       "\n",
       "    .dataframe tbody tr th {\n",
       "        vertical-align: top;\n",
       "    }\n",
       "\n",
       "    .dataframe thead th {\n",
       "        text-align: right;\n",
       "    }\n",
       "</style>\n",
       "<table border=\"1\" class=\"dataframe\">\n",
       "  <thead>\n",
       "    <tr style=\"text-align: right;\">\n",
       "      <th></th>\n",
       "      <th>Unnamed: 0</th>\n",
       "      <th>ID</th>\n",
       "      <th>region</th>\n",
       "      <th>school_type</th>\n",
       "      <th>total_students_2018</th>\n",
       "      <th>total_after_9_2018</th>\n",
       "      <th>total_after_11_2018</th>\n",
       "      <th>diff_teens_2018</th>\n",
       "      <th>deficit_places_2018</th>\n",
       "      <th>3_times_school_2018</th>\n",
       "      <th>...</th>\n",
       "      <th>total_students_9</th>\n",
       "      <th>total_students_10</th>\n",
       "      <th>total_students_11</th>\n",
       "      <th>nationality_diversity_index</th>\n",
       "      <th>load_ratio</th>\n",
       "      <th>drinking_water_presence</th>\n",
       "      <th>qedu_top_uni</th>\n",
       "      <th>qedu_passed_ent</th>\n",
       "      <th>qedu_continued_education</th>\n",
       "      <th>qedu_elite_achievements</th>\n",
       "    </tr>\n",
       "  </thead>\n",
       "  <tbody>\n",
       "    <tr>\n",
       "      <th>0</th>\n",
       "      <td>0</td>\n",
       "      <td>1</td>\n",
       "      <td>Акмолинская область</td>\n",
       "      <td>общеобразовательная школа, опорная школа (ресу...</td>\n",
       "      <td>833</td>\n",
       "      <td>70</td>\n",
       "      <td>42.0</td>\n",
       "      <td>8.0</td>\n",
       "      <td>0.0</td>\n",
       "      <td>0</td>\n",
       "      <td>...</td>\n",
       "      <td>0.081464</td>\n",
       "      <td>0.018890</td>\n",
       "      <td>0.049587</td>\n",
       "      <td>0.904265</td>\n",
       "      <td>1.366129</td>\n",
       "      <td>да</td>\n",
       "      <td>0.047619</td>\n",
       "      <td>1.000000</td>\n",
       "      <td>1.000000</td>\n",
       "      <td>0.056856</td>\n",
       "    </tr>\n",
       "    <tr>\n",
       "      <th>1</th>\n",
       "      <td>1</td>\n",
       "      <td>2</td>\n",
       "      <td>Акмолинская область</td>\n",
       "      <td>общеобразовательная школа</td>\n",
       "      <td>528</td>\n",
       "      <td>52</td>\n",
       "      <td>18.0</td>\n",
       "      <td>0.0</td>\n",
       "      <td>0.0</td>\n",
       "      <td>0</td>\n",
       "      <td>...</td>\n",
       "      <td>0.098901</td>\n",
       "      <td>0.047619</td>\n",
       "      <td>0.031136</td>\n",
       "      <td>0.889412</td>\n",
       "      <td>1.011111</td>\n",
       "      <td>да</td>\n",
       "      <td>0.222222</td>\n",
       "      <td>1.000000</td>\n",
       "      <td>1.000000</td>\n",
       "      <td>0.014740</td>\n",
       "    </tr>\n",
       "    <tr>\n",
       "      <th>2</th>\n",
       "      <td>2</td>\n",
       "      <td>3</td>\n",
       "      <td>Акмолинская область</td>\n",
       "      <td>общеобразовательная школа, интернат при общеоб...</td>\n",
       "      <td>714</td>\n",
       "      <td>56</td>\n",
       "      <td>37.0</td>\n",
       "      <td>2.0</td>\n",
       "      <td>0.0</td>\n",
       "      <td>0</td>\n",
       "      <td>...</td>\n",
       "      <td>0.073834</td>\n",
       "      <td>0.034974</td>\n",
       "      <td>0.051813</td>\n",
       "      <td>0.350848</td>\n",
       "      <td>0.919048</td>\n",
       "      <td>да</td>\n",
       "      <td>0.108108</td>\n",
       "      <td>0.909091</td>\n",
       "      <td>1.000000</td>\n",
       "      <td>0.050197</td>\n",
       "    </tr>\n",
       "    <tr>\n",
       "      <th>3</th>\n",
       "      <td>3</td>\n",
       "      <td>4</td>\n",
       "      <td>Акмолинская область</td>\n",
       "      <td>общеобразовательная школа</td>\n",
       "      <td>354</td>\n",
       "      <td>33</td>\n",
       "      <td>18.0</td>\n",
       "      <td>0.0</td>\n",
       "      <td>21.0</td>\n",
       "      <td>0</td>\n",
       "      <td>...</td>\n",
       "      <td>0.085427</td>\n",
       "      <td>0.022613</td>\n",
       "      <td>0.045226</td>\n",
       "      <td>0.861186</td>\n",
       "      <td>1.658333</td>\n",
       "      <td>да</td>\n",
       "      <td>0.000000</td>\n",
       "      <td>0.888889</td>\n",
       "      <td>0.969697</td>\n",
       "      <td>0.000000</td>\n",
       "    </tr>\n",
       "    <tr>\n",
       "      <th>4</th>\n",
       "      <td>4</td>\n",
       "      <td>5</td>\n",
       "      <td>Акмолинская область</td>\n",
       "      <td>общеобразовательная школа, малокомплектная шко...</td>\n",
       "      <td>139</td>\n",
       "      <td>20</td>\n",
       "      <td>15.0</td>\n",
       "      <td>0.0</td>\n",
       "      <td>0.0</td>\n",
       "      <td>0</td>\n",
       "      <td>...</td>\n",
       "      <td>0.134615</td>\n",
       "      <td>0.044872</td>\n",
       "      <td>0.096154</td>\n",
       "      <td>0.902487</td>\n",
       "      <td>0.331915</td>\n",
       "      <td>да</td>\n",
       "      <td>0.066667</td>\n",
       "      <td>0.857143</td>\n",
       "      <td>1.000000</td>\n",
       "      <td>0.000000</td>\n",
       "    </tr>\n",
       "  </tbody>\n",
       "</table>\n",
       "<p>5 rows × 212 columns</p>\n",
       "</div>"
      ],
      "text/plain": [
       "   Unnamed: 0  ID               region  \\\n",
       "0           0   1  Акмолинская область   \n",
       "1           1   2  Акмолинская область   \n",
       "2           2   3  Акмолинская область   \n",
       "3           3   4  Акмолинская область   \n",
       "4           4   5  Акмолинская область   \n",
       "\n",
       "                                         school_type  total_students_2018  \\\n",
       "0  общеобразовательная школа, опорная школа (ресу...                  833   \n",
       "1                          общеобразовательная школа                  528   \n",
       "2  общеобразовательная школа, интернат при общеоб...                  714   \n",
       "3                          общеобразовательная школа                  354   \n",
       "4  общеобразовательная школа, малокомплектная шко...                  139   \n",
       "\n",
       "   total_after_9_2018  total_after_11_2018  diff_teens_2018  \\\n",
       "0                  70                 42.0              8.0   \n",
       "1                  52                 18.0              0.0   \n",
       "2                  56                 37.0              2.0   \n",
       "3                  33                 18.0              0.0   \n",
       "4                  20                 15.0              0.0   \n",
       "\n",
       "   deficit_places_2018  3_times_school_2018  ...  total_students_9  \\\n",
       "0                  0.0                    0  ...          0.081464   \n",
       "1                  0.0                    0  ...          0.098901   \n",
       "2                  0.0                    0  ...          0.073834   \n",
       "3                 21.0                    0  ...          0.085427   \n",
       "4                  0.0                    0  ...          0.134615   \n",
       "\n",
       "   total_students_10  total_students_11  nationality_diversity_index  \\\n",
       "0           0.018890           0.049587                     0.904265   \n",
       "1           0.047619           0.031136                     0.889412   \n",
       "2           0.034974           0.051813                     0.350848   \n",
       "3           0.022613           0.045226                     0.861186   \n",
       "4           0.044872           0.096154                     0.902487   \n",
       "\n",
       "   load_ratio  drinking_water_presence  qedu_top_uni  qedu_passed_ent  \\\n",
       "0    1.366129                       да      0.047619         1.000000   \n",
       "1    1.011111                       да      0.222222         1.000000   \n",
       "2    0.919048                       да      0.108108         0.909091   \n",
       "3    1.658333                       да      0.000000         0.888889   \n",
       "4    0.331915                       да      0.066667         0.857143   \n",
       "\n",
       "   qedu_continued_education  qedu_elite_achievements  \n",
       "0                  1.000000                 0.056856  \n",
       "1                  1.000000                 0.014740  \n",
       "2                  1.000000                 0.050197  \n",
       "3                  0.969697                 0.000000  \n",
       "4                  1.000000                 0.000000  \n",
       "\n",
       "[5 rows x 212 columns]"
      ]
     },
     "execution_count": 12,
     "metadata": {},
     "output_type": "execute_result"
    }
   ],
   "source": [
    "df.head(5)"
   ]
  },
  {
   "cell_type": "code",
   "execution_count": 6,
   "metadata": {},
   "outputs": [],
   "source": [
    "# 00000000010011\n",
    "# 00000000101101\n",
    "\n",
    "# 01\n",
    "# 11\n",
    "# 11\n",
    "\n",
    "# 00000000000001"
   ]
  },
  {
   "cell_type": "code",
   "execution_count": 13,
   "metadata": {},
   "outputs": [
    {
     "data": {
      "text/plain": [
       "Index(['Unnamed: 0', 'ID', 'region', 'school_type', 'total_students_2018',\n",
       "       'total_after_9_2018', 'total_after_11_2018', 'diff_teens_2018',\n",
       "       'deficit_places_2018', '3_times_school_2018',\n",
       "       ...\n",
       "       'total_students_9', 'total_students_10', 'total_students_11',\n",
       "       'nationality_diversity_index', 'load_ratio', 'drinking_water_presence',\n",
       "       'qedu_top_uni', 'qedu_passed_ent', 'qedu_continued_education',\n",
       "       'qedu_elite_achievements'],\n",
       "      dtype='object', length=212)"
      ]
     },
     "execution_count": 13,
     "metadata": {},
     "output_type": "execute_result"
    }
   ],
   "source": [
    "df.columns"
   ]
  },
  {
   "cell_type": "code",
   "execution_count": 23,
   "metadata": {},
   "outputs": [
    {
     "data": {
      "text/plain": [
       "qedu_top_uni                0.077218\n",
       "qedu_passed_ent             0.917604\n",
       "qedu_continued_education    0.991964\n",
       "qedu_elite_achievements     0.021340\n",
       "dtype: float64"
      ]
     },
     "execution_count": 23,
     "metadata": {},
     "output_type": "execute_result"
    }
   ],
   "source": [
    "df[df.school_type_basic.isin([\"Гимназия\", \"Лицей\"])][['qedu_top_uni', 'qedu_passed_ent', 'qedu_continued_education', 'qedu_elite_achievements']].mean()"
   ]
  },
  {
   "cell_type": "code",
   "execution_count": 24,
   "metadata": {},
   "outputs": [
    {
     "data": {
      "text/plain": [
       "qedu_top_uni                0.077218\n",
       "qedu_passed_ent             0.917604\n",
       "qedu_continued_education    0.991964\n",
       "qedu_elite_achievements     0.021340\n",
       "dtype: float64"
      ]
     },
     "execution_count": 24,
     "metadata": {},
     "output_type": "execute_result"
    }
   ],
   "source": [
    "df[(df.school_type_basic == \"Гимназия\") | (df.school_type_basic == \"Лицей\")][['qedu_top_uni', 'qedu_passed_ent', 'qedu_continued_education', 'qedu_elite_achievements']].mean()"
   ]
  },
  {
   "cell_type": "code",
   "execution_count": 25,
   "metadata": {},
   "outputs": [
    {
     "data": {
      "text/plain": [
       "qedu_top_uni                0.088929\n",
       "qedu_passed_ent             0.917652\n",
       "qedu_continued_education    0.992966\n",
       "qedu_elite_achievements     0.021200\n",
       "dtype: float64"
      ]
     },
     "execution_count": 25,
     "metadata": {},
     "output_type": "execute_result"
    }
   ],
   "source": [
    "df[df.school_type_basic == \"Лицей\"][['qedu_top_uni', 'qedu_passed_ent', 'qedu_continued_education', 'qedu_elite_achievements']].mean()"
   ]
  },
  {
   "cell_type": "code",
   "execution_count": 26,
   "metadata": {},
   "outputs": [
    {
     "data": {
      "text/plain": [
       "qedu_top_uni                0.017545\n",
       "qedu_passed_ent             0.843463\n",
       "qedu_continued_education    0.992822\n",
       "qedu_elite_achievements     0.007441\n",
       "dtype: float64"
      ]
     },
     "execution_count": 26,
     "metadata": {},
     "output_type": "execute_result"
    }
   ],
   "source": [
    "df[df.school_type_basic == \"Обычная школа\"][['qedu_top_uni', 'qedu_passed_ent', 'qedu_continued_education', 'qedu_elite_achievements']].mean()"
   ]
  },
  {
   "cell_type": "code",
   "execution_count": null,
   "metadata": {},
   "outputs": [],
   "source": []
  },
  {
   "cell_type": "code",
   "execution_count": 27,
   "metadata": {},
   "outputs": [
    {
     "data": {
      "text/plain": [
       "['Unnamed: 0',\n",
       " 'ID',\n",
       " 'region',\n",
       " 'school_type',\n",
       " 'total_students_2018',\n",
       " 'total_after_9_2018',\n",
       " 'total_after_11_2018',\n",
       " 'diff_teens_2018',\n",
       " 'deficit_places_2018',\n",
       " '3_times_school_2018',\n",
       " 'barrier_free_2018',\n",
       " 'stud_have_book_count_2018',\n",
       " 'ip_higher_4mb_2018',\n",
       " 'poor_fams_2018',\n",
       " 'poor_fams_food_2018',\n",
       " 'dorms_for_villages_2018',\n",
       " 'total_teachers_2018',\n",
       " 'teachers_1_category_2018',\n",
       " 'higher_edu_teachers_2017',\n",
       " 'master_teachers',\n",
       " 'out_of_system_teachers_2018',\n",
       " 'in_emergency_2018',\n",
       " 'need_repair_2018',\n",
       " 'school_city_dist',\n",
       " 'only_out_toilet_2018',\n",
       " 'school_density_in_10km',\n",
       " 'school_density_in_3km',\n",
       " 'school_density_in1.5km',\n",
       " 'out_in_toilets_2018',\n",
       " 'total_comp_2018',\n",
       " 'interactive_boards_2017',\n",
       " 'cameras__2017',\n",
       " 'messa_2018',\n",
       " 'sport_stud',\n",
       " 'art_stud',\n",
       " 'appl_art_stud',\n",
       " 'technical_stud',\n",
       " 'soc_student',\n",
       " 'bio_eco_stud',\n",
       " 'tourist_stud',\n",
       " 'nat_math_stud',\n",
       " 'lang_stud',\n",
       " 'other_stud',\n",
       " 'add_edu_stud',\n",
       " 'high_category_teachers_2018',\n",
       " 'eng_informatics_teachers',\n",
       " 'eng_phys_teachers',\n",
       " 'eng_chem_teachers',\n",
       " 'eng_bio_teachers',\n",
       " 'location',\n",
       " 'tip_organizacii_obrazovaniya',\n",
       " 'open_date',\n",
       " 'student_delivery',\n",
       " 'magnet_school',\n",
       " 'num_libraries',\n",
       " 'library_area',\n",
       " 'number_library_reading_rooms',\n",
       " 'library_reading_room_sitting_places',\n",
       " 'library_num_of_readers',\n",
       " 'library_num_of_visits',\n",
       " 'given_books',\n",
       " 'library_books_overall',\n",
       " 'ebooks_count_2017',\n",
       " 'canteen',\n",
       " 'canteen_places',\n",
       " 'buffet',\n",
       " 'buffet_places',\n",
       " 'nutrition_in_apapted_premises',\n",
       " 'computer_availability_2017',\n",
       " 'computer_overall_2017',\n",
       " 'computer_w_internet_2017',\n",
       " 'computers_education',\n",
       " 'computer_for_teacher_2017',\n",
       " 'comp_count_need_repair_2017',\n",
       " 'internet_speed_mbit_2017',\n",
       " 'interactive_boards_2017.1',\n",
       " 'gym_2017',\n",
       " 'gym_equipment_2017',\n",
       " 'civil_protection_alert_system_2017',\n",
       " 'panic_button_2017',\n",
       " 'tourniquet_2017',\n",
       " 'museum',\n",
       " 'camp_2017',\n",
       " 'building_type_typical',\n",
       " 'heating_type_2017',\n",
       " 'building_condition_2017',\n",
       " 'building_type_2017',\n",
       " 'building_capacity_2017',\n",
       " 'hot_water_2017',\n",
       " 'import_water',\n",
       " 'building_area_2017',\n",
       " 'building_working_area_2017',\n",
       " 'building_ownership_2017',\n",
       " 'landscaping',\n",
       " 'toilet_2017',\n",
       " 'classrooms_num',\n",
       " 'classrooms_area',\n",
       " 'lingaphone_cab_2017',\n",
       " 'lingaphone_multimedia_cab_2017',\n",
       " 'med_cab_2017',\n",
       " 'edu_lang_2017',\n",
       " 'future_edu_lang_2017',\n",
       " 'spec_school_2017',\n",
       " 'edu_from_class_num_2017',\n",
       " 'spec_edu_from_class_num_2017',\n",
       " 'deep_spec_edu_classes_2017',\n",
       " 'clubs_2017',\n",
       " 'musical_club',\n",
       " 'shift_count_2017',\n",
       " 'special_classes',\n",
       " 'prolonged_day_groups',\n",
       " 'combined_class_2017',\n",
       " 'class_count_2017',\n",
       " 'class_count_1_shift_2017',\n",
       " 'class_count_2_shift_2017',\n",
       " 'class_count_3_shift_2017',\n",
       " 'class_count_4_shift_2017',\n",
       " 'total_after_9_2017',\n",
       " 'college_after_9_2017',\n",
       " 'applied_10_after_9_2017',\n",
       " 'total_after_11_2017',\n",
       " 'total_teachers_2017',\n",
       " 'academic_degree_teachers_2017',\n",
       " 'qualified_teachers_2017',\n",
       " 'eng_lang_teachers_2017',\n",
       " 'out_of_system_teachers_2017',\n",
       " 'need_teachers_2017',\n",
       " 'staff_num',\n",
       " 'zavuch_num',\n",
       " 'high_category_teachers_2017',\n",
       " 'teachers_1_category_2017',\n",
       " 'teachers_2_category_2017',\n",
       " 'teachers_no_category_2017',\n",
       " 'experience_teachers_under_3_years_2017',\n",
       " 'experience_teachers_between_3_5_years_2017',\n",
       " 'experience_teachers_between_6_10_years_2017',\n",
       " 'experience_teachers_between_11_15_years_2017',\n",
       " 'experience_teachers_between_16_20_years_2017',\n",
       " 'experience_teachers_20+_years_2017',\n",
       " 'higher_edu_teachers_2017.1',\n",
       " 'tech_spec_edu_teachers_2017',\n",
       " 'middle_edu_teachers_2017',\n",
       " 'age_teachers_under_25_2017',\n",
       " 'age_teachers_between_25_29_2017',\n",
       " 'age_teachers_between_30_34_2017',\n",
       " 'age_teachers_between_35_39_2017',\n",
       " 'age_teachers_between_40_44_2017',\n",
       " 'age_teachers_between_45_49_2017',\n",
       " 'age_teachers_between_50_54_2017',\n",
       " 'age_teachers_between_55_59_2017',\n",
       " 'age_teachers_59+_years_2017',\n",
       " 'retired_age_man_teachers_2017',\n",
       " 'retired_age_woman_teachers_2017',\n",
       " 'total_students_2017',\n",
       " 'boys_2017',\n",
       " 'girls_2017',\n",
       " 'evening_students',\n",
       " 'using_clubs_students_2017',\n",
       " 'students_without_parents_2017',\n",
       " 'disabled_students',\n",
       " 'students_without_parent_help_2017',\n",
       " 'student_with_financial_aid',\n",
       " 'student_books_2017',\n",
       " 'hot_food_2017',\n",
       " 'free_hot_food_2017',\n",
       " 'student_edu_lang_rus_2017',\n",
       " 'student_edu_lang_kaz_2017',\n",
       " 'student_edu_lang_uyghur_2017',\n",
       " 'student_edu_lang_uzbek_2017',\n",
       " 'student_edu_lang_tadjik_2017',\n",
       " 'russian_students',\n",
       " 'kazakh_students',\n",
       " 'other_nationality_students',\n",
       " 'classrooms_per_student',\n",
       " 'classroom_average_area',\n",
       " 'working_area_ratio',\n",
       " 'diagnostic_cab',\n",
       " 'audiologist_cab',\n",
       " 'psychiatrist_cab',\n",
       " 'dentist_cab',\n",
       " 'psychologist_cab',\n",
       " 'no_special_cabs',\n",
       " 'medical_physical_cab',\n",
       " 'neuropatologist_cab',\n",
       " 'medical_cab',\n",
       " 'pedagog_psychologist_cab',\n",
       " 'кабинет психиатра ',\n",
       " 'police_inspector_cab',\n",
       " 'speech_terapist_cab',\n",
       " 'ophtalmologist_cab',\n",
       " 'average_students_per_class',\n",
       " 'average_students_per_teacher',\n",
       " 'average_staff_per_area',\n",
       " 'sex_diversity_index',\n",
       " 'total_students_1',\n",
       " 'total_students_2',\n",
       " 'total_students_3',\n",
       " 'total_students_4',\n",
       " 'total_students_5',\n",
       " 'total_students_6',\n",
       " 'total_students_7',\n",
       " 'total_students_8',\n",
       " 'total_students_9',\n",
       " 'total_students_10',\n",
       " 'total_students_11',\n",
       " 'nationality_diversity_index',\n",
       " 'load_ratio',\n",
       " 'drinking_water_presence',\n",
       " 'qedu_top_uni',\n",
       " 'qedu_passed_ent',\n",
       " 'qedu_continued_education',\n",
       " 'qedu_elite_achievements',\n",
       " 'school_type_basic',\n",
       " 'school_type_low_volume',\n",
       " 'school_type_internat']"
      ]
     },
     "execution_count": 27,
     "metadata": {},
     "output_type": "execute_result"
    }
   ],
   "source": [
    "list(df.columns)"
   ]
  },
  {
   "cell_type": "code",
   "execution_count": 28,
   "metadata": {},
   "outputs": [
    {
     "data": {
      "text/html": [
       "<div>\n",
       "<style scoped>\n",
       "    .dataframe tbody tr th:only-of-type {\n",
       "        vertical-align: middle;\n",
       "    }\n",
       "\n",
       "    .dataframe tbody tr th {\n",
       "        vertical-align: top;\n",
       "    }\n",
       "\n",
       "    .dataframe thead th {\n",
       "        text-align: right;\n",
       "    }\n",
       "</style>\n",
       "<table border=\"1\" class=\"dataframe\">\n",
       "  <thead>\n",
       "    <tr style=\"text-align: right;\">\n",
       "      <th></th>\n",
       "      <th>computer_overall_2017</th>\n",
       "      <th>experience_teachers_20+_years_2017</th>\n",
       "    </tr>\n",
       "    <tr>\n",
       "      <th>region</th>\n",
       "      <th></th>\n",
       "      <th></th>\n",
       "    </tr>\n",
       "  </thead>\n",
       "  <tbody>\n",
       "    <tr>\n",
       "      <th>Акмолинская область</th>\n",
       "      <td>0.126803</td>\n",
       "      <td>0.387371</td>\n",
       "    </tr>\n",
       "    <tr>\n",
       "      <th>Актюбинская область</th>\n",
       "      <td>0.116793</td>\n",
       "      <td>0.329272</td>\n",
       "    </tr>\n",
       "    <tr>\n",
       "      <th>Алматинская область</th>\n",
       "      <td>0.150056</td>\n",
       "      <td>0.347602</td>\n",
       "    </tr>\n",
       "    <tr>\n",
       "      <th>Атырауская область</th>\n",
       "      <td>0.151705</td>\n",
       "      <td>0.400969</td>\n",
       "    </tr>\n",
       "    <tr>\n",
       "      <th>Восточно-Казахстанская область</th>\n",
       "      <td>0.159419</td>\n",
       "      <td>0.404322</td>\n",
       "    </tr>\n",
       "    <tr>\n",
       "      <th>Жамбылская область</th>\n",
       "      <td>0.118509</td>\n",
       "      <td>0.329196</td>\n",
       "    </tr>\n",
       "    <tr>\n",
       "      <th>Западно-Казахстанская область</th>\n",
       "      <td>0.128566</td>\n",
       "      <td>0.361260</td>\n",
       "    </tr>\n",
       "    <tr>\n",
       "      <th>Карагандинская область</th>\n",
       "      <td>0.198977</td>\n",
       "      <td>0.400941</td>\n",
       "    </tr>\n",
       "    <tr>\n",
       "      <th>Костанайская область</th>\n",
       "      <td>0.105919</td>\n",
       "      <td>0.375599</td>\n",
       "    </tr>\n",
       "    <tr>\n",
       "      <th>Кызылординская область</th>\n",
       "      <td>0.087975</td>\n",
       "      <td>0.365105</td>\n",
       "    </tr>\n",
       "    <tr>\n",
       "      <th>Мангистауская область</th>\n",
       "      <td>0.110535</td>\n",
       "      <td>0.306504</td>\n",
       "    </tr>\n",
       "    <tr>\n",
       "      <th>Павлодарская область</th>\n",
       "      <td>0.259446</td>\n",
       "      <td>0.346727</td>\n",
       "    </tr>\n",
       "    <tr>\n",
       "      <th>Северо-Казахстанская область</th>\n",
       "      <td>0.223748</td>\n",
       "      <td>0.388080</td>\n",
       "    </tr>\n",
       "    <tr>\n",
       "      <th>Туркестанская область</th>\n",
       "      <td>0.078864</td>\n",
       "      <td>0.332943</td>\n",
       "    </tr>\n",
       "    <tr>\n",
       "      <th>г.Алматы</th>\n",
       "      <td>0.078781</td>\n",
       "      <td>0.401240</td>\n",
       "    </tr>\n",
       "    <tr>\n",
       "      <th>г.Астана</th>\n",
       "      <td>0.081721</td>\n",
       "      <td>0.404728</td>\n",
       "    </tr>\n",
       "    <tr>\n",
       "      <th>г.Шымкент</th>\n",
       "      <td>0.137755</td>\n",
       "      <td>0.375000</td>\n",
       "    </tr>\n",
       "  </tbody>\n",
       "</table>\n",
       "</div>"
      ],
      "text/plain": [
       "                                computer_overall_2017  \\\n",
       "region                                                  \n",
       "Акмолинская область                          0.126803   \n",
       "Актюбинская область                          0.116793   \n",
       "Алматинская область                          0.150056   \n",
       "Атырауская область                           0.151705   \n",
       "Восточно-Казахстанская область               0.159419   \n",
       "Жамбылская область                           0.118509   \n",
       "Западно-Казахстанская область                0.128566   \n",
       "Карагандинская область                       0.198977   \n",
       "Костанайская область                         0.105919   \n",
       "Кызылординская область                       0.087975   \n",
       "Мангистауская область                        0.110535   \n",
       "Павлодарская область                         0.259446   \n",
       "Северо-Казахстанская область                 0.223748   \n",
       "Туркестанская область                        0.078864   \n",
       "г.Алматы                                     0.078781   \n",
       "г.Астана                                     0.081721   \n",
       "г.Шымкент                                    0.137755   \n",
       "\n",
       "                                experience_teachers_20+_years_2017  \n",
       "region                                                              \n",
       "Акмолинская область                                       0.387371  \n",
       "Актюбинская область                                       0.329272  \n",
       "Алматинская область                                       0.347602  \n",
       "Атырауская область                                        0.400969  \n",
       "Восточно-Казахстанская область                            0.404322  \n",
       "Жамбылская область                                        0.329196  \n",
       "Западно-Казахстанская область                             0.361260  \n",
       "Карагандинская область                                    0.400941  \n",
       "Костанайская область                                      0.375599  \n",
       "Кызылординская область                                    0.365105  \n",
       "Мангистауская область                                     0.306504  \n",
       "Павлодарская область                                      0.346727  \n",
       "Северо-Казахстанская область                              0.388080  \n",
       "Туркестанская область                                     0.332943  \n",
       "г.Алматы                                                  0.401240  \n",
       "г.Астана                                                  0.404728  \n",
       "г.Шымкент                                                 0.375000  "
      ]
     },
     "execution_count": 28,
     "metadata": {},
     "output_type": "execute_result"
    }
   ],
   "source": [
    "df.groupby('region')[['computer_overall_2017', 'experience_teachers_20+_years_2017']].mean()"
   ]
  },
  {
   "cell_type": "code",
   "execution_count": null,
   "metadata": {},
   "outputs": [],
   "source": []
  },
  {
   "cell_type": "code",
   "execution_count": 29,
   "metadata": {},
   "outputs": [
    {
     "data": {
      "text/plain": [
       "общеобразовательная школа                                                                                       2430\n",
       "общеобразовательная школа, малокомплектная школа                                                                1206\n",
       "основная средняя школа, малокомплектная школа                                                                    719\n",
       "начальная школа, малокомплектная школа                                                                           529\n",
       "общеобразовательная школа, школа-гимназия                                                                        174\n",
       "                                                                                                                ... \n",
       "специализированный лицей (специализированная школалицей), лицейинтернат 'Білім инновация'                          1\n",
       "общеобразовательная школа, интернат при общеобразовательной школе, школалицей                                      1\n",
       "общеобразовательная школа, малокомплектная школа, школаинтернат                                                    1\n",
       "общеобразовательная школа, гимназия, опорная школа (ресурсный центр), интернат при общеобразовательной школе       1\n",
       "общеобразовательная школа, школа-интернат, школа-гимназия                                                          1\n",
       "Name: school_type, Length: 72, dtype: int64"
      ]
     },
     "execution_count": 29,
     "metadata": {},
     "output_type": "execute_result"
    }
   ],
   "source": [
    "df.school_type.value_counts()"
   ]
  },
  {
   "cell_type": "code",
   "execution_count": 30,
   "metadata": {},
   "outputs": [],
   "source": [
    "def get_gimn_lic(t):\n",
    "    if \"гимназ\" in t.lower():\n",
    "        return \"Гимназия\"\n",
    "    if \"лицей\" in t.lower():\n",
    "        return \"Лицей\"\n",
    "    return \"Обычная школа\"\n",
    "\n",
    "df['school_type_basic'] = df['school_type'].apply(get_gimn_lic)\n",
    "df['school_type_low_volume'] = df['school_type'].apply(lambda x: \"малокомпл\" in x.lower())\n",
    "df['school_type_internat'] = df['school_type'].apply(lambda x: \"интернат\" in x.lower())"
   ]
  },
  {
   "cell_type": "code",
   "execution_count": 31,
   "metadata": {},
   "outputs": [
    {
     "data": {
      "text/plain": [
       "False    5690\n",
       "True      374\n",
       "Name: school_type_internat, dtype: int64"
      ]
     },
     "execution_count": 31,
     "metadata": {},
     "output_type": "execute_result"
    }
   ],
   "source": [
    "df['school_type_internat'].value_counts()"
   ]
  },
  {
   "cell_type": "code",
   "execution_count": null,
   "metadata": {},
   "outputs": [],
   "source": []
  },
  {
   "cell_type": "code",
   "execution_count": 32,
   "metadata": {},
   "outputs": [],
   "source": [
    "df1 = pd.DataFrame({\n",
    "    \"A\": [1, 2, 3],\n",
    "    \"B\": [4, 5, 6]\n",
    "}, index=[\"a\", \"b\", \"c\"])\n",
    "\n",
    "df2 = pd.DataFrame({\n",
    "    \"A\": [1, 2, 4],\n",
    "    \"C\": [5, 6, 7]\n",
    "}, index=[\"a\", \"b\", \"d\"])"
   ]
  },
  {
   "cell_type": "code",
   "execution_count": 33,
   "metadata": {},
   "outputs": [
    {
     "data": {
      "text/html": [
       "<div>\n",
       "<style scoped>\n",
       "    .dataframe tbody tr th:only-of-type {\n",
       "        vertical-align: middle;\n",
       "    }\n",
       "\n",
       "    .dataframe tbody tr th {\n",
       "        vertical-align: top;\n",
       "    }\n",
       "\n",
       "    .dataframe thead th {\n",
       "        text-align: right;\n",
       "    }\n",
       "</style>\n",
       "<table border=\"1\" class=\"dataframe\">\n",
       "  <thead>\n",
       "    <tr style=\"text-align: right;\">\n",
       "      <th></th>\n",
       "      <th>A</th>\n",
       "      <th>B</th>\n",
       "    </tr>\n",
       "  </thead>\n",
       "  <tbody>\n",
       "    <tr>\n",
       "      <th>a</th>\n",
       "      <td>1</td>\n",
       "      <td>4</td>\n",
       "    </tr>\n",
       "    <tr>\n",
       "      <th>b</th>\n",
       "      <td>2</td>\n",
       "      <td>5</td>\n",
       "    </tr>\n",
       "    <tr>\n",
       "      <th>c</th>\n",
       "      <td>3</td>\n",
       "      <td>6</td>\n",
       "    </tr>\n",
       "  </tbody>\n",
       "</table>\n",
       "</div>"
      ],
      "text/plain": [
       "   A  B\n",
       "a  1  4\n",
       "b  2  5\n",
       "c  3  6"
      ]
     },
     "execution_count": 33,
     "metadata": {},
     "output_type": "execute_result"
    }
   ],
   "source": [
    "df1"
   ]
  },
  {
   "cell_type": "code",
   "execution_count": 19,
   "metadata": {},
   "outputs": [
    {
     "data": {
      "text/html": [
       "<div>\n",
       "<style scoped>\n",
       "    .dataframe tbody tr th:only-of-type {\n",
       "        vertical-align: middle;\n",
       "    }\n",
       "\n",
       "    .dataframe tbody tr th {\n",
       "        vertical-align: top;\n",
       "    }\n",
       "\n",
       "    .dataframe thead th {\n",
       "        text-align: right;\n",
       "    }\n",
       "</style>\n",
       "<table border=\"1\" class=\"dataframe\">\n",
       "  <thead>\n",
       "    <tr style=\"text-align: right;\">\n",
       "      <th></th>\n",
       "      <th>A</th>\n",
       "      <th>C</th>\n",
       "    </tr>\n",
       "  </thead>\n",
       "  <tbody>\n",
       "    <tr>\n",
       "      <th>a</th>\n",
       "      <td>1</td>\n",
       "      <td>5</td>\n",
       "    </tr>\n",
       "    <tr>\n",
       "      <th>b</th>\n",
       "      <td>2</td>\n",
       "      <td>6</td>\n",
       "    </tr>\n",
       "    <tr>\n",
       "      <th>d</th>\n",
       "      <td>4</td>\n",
       "      <td>7</td>\n",
       "    </tr>\n",
       "  </tbody>\n",
       "</table>\n",
       "</div>"
      ],
      "text/plain": [
       "   A  C\n",
       "a  1  5\n",
       "b  2  6\n",
       "d  4  7"
      ]
     },
     "execution_count": 19,
     "metadata": {},
     "output_type": "execute_result"
    }
   ],
   "source": [
    "df2"
   ]
  },
  {
   "cell_type": "code",
   "execution_count": 20,
   "metadata": {},
   "outputs": [
    {
     "data": {
      "text/html": [
       "<div>\n",
       "<style scoped>\n",
       "    .dataframe tbody tr th:only-of-type {\n",
       "        vertical-align: middle;\n",
       "    }\n",
       "\n",
       "    .dataframe tbody tr th {\n",
       "        vertical-align: top;\n",
       "    }\n",
       "\n",
       "    .dataframe thead th {\n",
       "        text-align: right;\n",
       "    }\n",
       "</style>\n",
       "<table border=\"1\" class=\"dataframe\">\n",
       "  <thead>\n",
       "    <tr style=\"text-align: right;\">\n",
       "      <th></th>\n",
       "      <th>A</th>\n",
       "      <th>B</th>\n",
       "      <th>C</th>\n",
       "    </tr>\n",
       "  </thead>\n",
       "  <tbody>\n",
       "    <tr>\n",
       "      <th>a</th>\n",
       "      <td>1</td>\n",
       "      <td>4.0</td>\n",
       "      <td>NaN</td>\n",
       "    </tr>\n",
       "    <tr>\n",
       "      <th>b</th>\n",
       "      <td>2</td>\n",
       "      <td>5.0</td>\n",
       "      <td>NaN</td>\n",
       "    </tr>\n",
       "    <tr>\n",
       "      <th>c</th>\n",
       "      <td>3</td>\n",
       "      <td>6.0</td>\n",
       "      <td>NaN</td>\n",
       "    </tr>\n",
       "    <tr>\n",
       "      <th>a</th>\n",
       "      <td>1</td>\n",
       "      <td>NaN</td>\n",
       "      <td>5.0</td>\n",
       "    </tr>\n",
       "    <tr>\n",
       "      <th>b</th>\n",
       "      <td>2</td>\n",
       "      <td>NaN</td>\n",
       "      <td>6.0</td>\n",
       "    </tr>\n",
       "    <tr>\n",
       "      <th>d</th>\n",
       "      <td>4</td>\n",
       "      <td>NaN</td>\n",
       "      <td>7.0</td>\n",
       "    </tr>\n",
       "  </tbody>\n",
       "</table>\n",
       "</div>"
      ],
      "text/plain": [
       "   A    B    C\n",
       "a  1  4.0  NaN\n",
       "b  2  5.0  NaN\n",
       "c  3  6.0  NaN\n",
       "a  1  NaN  5.0\n",
       "b  2  NaN  6.0\n",
       "d  4  NaN  7.0"
      ]
     },
     "execution_count": 20,
     "metadata": {},
     "output_type": "execute_result"
    }
   ],
   "source": [
    "pd.concat([df1, df2], axis=0)"
   ]
  },
  {
   "cell_type": "code",
   "execution_count": 21,
   "metadata": {},
   "outputs": [
    {
     "data": {
      "text/html": [
       "<div>\n",
       "<style scoped>\n",
       "    .dataframe tbody tr th:only-of-type {\n",
       "        vertical-align: middle;\n",
       "    }\n",
       "\n",
       "    .dataframe tbody tr th {\n",
       "        vertical-align: top;\n",
       "    }\n",
       "\n",
       "    .dataframe thead th {\n",
       "        text-align: right;\n",
       "    }\n",
       "</style>\n",
       "<table border=\"1\" class=\"dataframe\">\n",
       "  <thead>\n",
       "    <tr style=\"text-align: right;\">\n",
       "      <th></th>\n",
       "      <th>A</th>\n",
       "      <th>B</th>\n",
       "      <th>A</th>\n",
       "      <th>C</th>\n",
       "    </tr>\n",
       "  </thead>\n",
       "  <tbody>\n",
       "    <tr>\n",
       "      <th>a</th>\n",
       "      <td>1.0</td>\n",
       "      <td>4.0</td>\n",
       "      <td>1.0</td>\n",
       "      <td>5.0</td>\n",
       "    </tr>\n",
       "    <tr>\n",
       "      <th>b</th>\n",
       "      <td>2.0</td>\n",
       "      <td>5.0</td>\n",
       "      <td>2.0</td>\n",
       "      <td>6.0</td>\n",
       "    </tr>\n",
       "    <tr>\n",
       "      <th>c</th>\n",
       "      <td>3.0</td>\n",
       "      <td>6.0</td>\n",
       "      <td>NaN</td>\n",
       "      <td>NaN</td>\n",
       "    </tr>\n",
       "    <tr>\n",
       "      <th>d</th>\n",
       "      <td>NaN</td>\n",
       "      <td>NaN</td>\n",
       "      <td>4.0</td>\n",
       "      <td>7.0</td>\n",
       "    </tr>\n",
       "  </tbody>\n",
       "</table>\n",
       "</div>"
      ],
      "text/plain": [
       "     A    B    A    C\n",
       "a  1.0  4.0  1.0  5.0\n",
       "b  2.0  5.0  2.0  6.0\n",
       "c  3.0  6.0  NaN  NaN\n",
       "d  NaN  NaN  4.0  7.0"
      ]
     },
     "execution_count": 21,
     "metadata": {},
     "output_type": "execute_result"
    }
   ],
   "source": [
    "pd.concat([df1, df2], axis=1)"
   ]
  },
  {
   "cell_type": "code",
   "execution_count": 25,
   "metadata": {},
   "outputs": [],
   "source": [
    "df1 = pd.DataFrame({\n",
    "    \"A\": [1, 2, 3],\n",
    "    \"B\": [4, 5, 6]\n",
    "}, index=[\"a\", \"b\", \"c\"])\n",
    "\n",
    "df2 = pd.DataFrame({\n",
    "    \"A\": [1, 2, 4],\n",
    "    \"C\": [5, 6, 7]\n",
    "}, index=[\"a\", \"b\", \"d\"])"
   ]
  },
  {
   "cell_type": "code",
   "execution_count": 27,
   "metadata": {},
   "outputs": [
    {
     "data": {
      "text/plain": [
       "<bound method DataFrame.merge of    A  B\n",
       "a  1  4\n",
       "b  2  5\n",
       "c  3  6>"
      ]
     },
     "execution_count": 27,
     "metadata": {},
     "output_type": "execute_result"
    }
   ],
   "source": [
    "df1.merge"
   ]
  },
  {
   "cell_type": "code",
   "execution_count": 24,
   "metadata": {},
   "outputs": [
    {
     "data": {
      "text/html": [
       "<div>\n",
       "<style scoped>\n",
       "    .dataframe tbody tr th:only-of-type {\n",
       "        vertical-align: middle;\n",
       "    }\n",
       "\n",
       "    .dataframe tbody tr th {\n",
       "        vertical-align: top;\n",
       "    }\n",
       "\n",
       "    .dataframe thead th {\n",
       "        text-align: right;\n",
       "    }\n",
       "</style>\n",
       "<table border=\"1\" class=\"dataframe\">\n",
       "  <thead>\n",
       "    <tr style=\"text-align: right;\">\n",
       "      <th></th>\n",
       "      <th>A</th>\n",
       "      <th>B</th>\n",
       "      <th>C</th>\n",
       "    </tr>\n",
       "  </thead>\n",
       "  <tbody>\n",
       "    <tr>\n",
       "      <th>0</th>\n",
       "      <td>1</td>\n",
       "      <td>4.0</td>\n",
       "      <td>5</td>\n",
       "    </tr>\n",
       "    <tr>\n",
       "      <th>1</th>\n",
       "      <td>2</td>\n",
       "      <td>5.0</td>\n",
       "      <td>6</td>\n",
       "    </tr>\n",
       "    <tr>\n",
       "      <th>2</th>\n",
       "      <td>4</td>\n",
       "      <td>NaN</td>\n",
       "      <td>7</td>\n",
       "    </tr>\n",
       "  </tbody>\n",
       "</table>\n",
       "</div>"
      ],
      "text/plain": [
       "   A    B  C\n",
       "0  1  4.0  5\n",
       "1  2  5.0  6\n",
       "2  4  NaN  7"
      ]
     },
     "execution_count": 24,
     "metadata": {},
     "output_type": "execute_result"
    }
   ],
   "source": [
    "df1.merge(df2, on=\"A\", how=\"right\")"
   ]
  },
  {
   "cell_type": "code",
   "execution_count": 165,
   "metadata": {},
   "outputs": [
    {
     "data": {
      "text/html": [
       "<div>\n",
       "<style scoped>\n",
       "    .dataframe tbody tr th:only-of-type {\n",
       "        vertical-align: middle;\n",
       "    }\n",
       "\n",
       "    .dataframe tbody tr th {\n",
       "        vertical-align: top;\n",
       "    }\n",
       "\n",
       "    .dataframe thead th {\n",
       "        text-align: right;\n",
       "    }\n",
       "</style>\n",
       "<table border=\"1\" class=\"dataframe\">\n",
       "  <thead>\n",
       "    <tr style=\"text-align: right;\">\n",
       "      <th></th>\n",
       "      <th>A</th>\n",
       "      <th>B</th>\n",
       "      <th>C</th>\n",
       "    </tr>\n",
       "  </thead>\n",
       "  <tbody>\n",
       "    <tr>\n",
       "      <th>0</th>\n",
       "      <td>1</td>\n",
       "      <td>4.0</td>\n",
       "      <td>5.0</td>\n",
       "    </tr>\n",
       "    <tr>\n",
       "      <th>1</th>\n",
       "      <td>2</td>\n",
       "      <td>5.0</td>\n",
       "      <td>6.0</td>\n",
       "    </tr>\n",
       "    <tr>\n",
       "      <th>2</th>\n",
       "      <td>3</td>\n",
       "      <td>6.0</td>\n",
       "      <td>NaN</td>\n",
       "    </tr>\n",
       "    <tr>\n",
       "      <th>3</th>\n",
       "      <td>4</td>\n",
       "      <td>NaN</td>\n",
       "      <td>7.0</td>\n",
       "    </tr>\n",
       "  </tbody>\n",
       "</table>\n",
       "</div>"
      ],
      "text/plain": [
       "   A    B    C\n",
       "0  1  4.0  5.0\n",
       "1  2  5.0  6.0\n",
       "2  3  6.0  NaN\n",
       "3  4  NaN  7.0"
      ]
     },
     "execution_count": 165,
     "metadata": {},
     "output_type": "execute_result"
    }
   ],
   "source": [
    "pd.merge(df1, df2, on=\"A\", how=\"outer\")"
   ]
  },
  {
   "cell_type": "code",
   "execution_count": 25,
   "metadata": {},
   "outputs": [
    {
     "name": "stdout",
     "output_type": "stream",
     "text": [
      "<generator object <genexpr> at 0x00000259A8366580>\n",
      "<generator object <genexpr> at 0x00000259A8366580>\n",
      "<generator object <genexpr> at 0x00000259A8366580>\n",
      "<generator object <genexpr> at 0x00000259A8366580>\n",
      "<generator object <genexpr> at 0x00000259A8366580>\n"
     ]
    }
   ],
   "source": [
    "for i in range(1, 6):\n",
    "    print([i for i in range(1, i+1)])"
   ]
  },
  {
   "cell_type": "code",
   "execution_count": null,
   "metadata": {},
   "outputs": [],
   "source": [
    "'''function:\n",
    "built-in functions - функции, которые уже встроенны в питон\n",
    "'''"
   ]
  }
 ],
 "metadata": {
  "kernelspec": {
   "display_name": "base",
   "language": "python",
   "name": "python3"
  },
  "language_info": {
   "codemirror_mode": {
    "name": "ipython",
    "version": 3
   },
   "file_extension": ".py",
   "mimetype": "text/x-python",
   "name": "python",
   "nbconvert_exporter": "python",
   "pygments_lexer": "ipython3",
   "version": "3.8.3"
  },
  "vscode": {
   "interpreter": {
    "hash": "259fc3bb52bd68860fe125978434f7381b4065e79f6999846159b3e61a3282cb"
   }
  }
 },
 "nbformat": 4,
 "nbformat_minor": 4
}
